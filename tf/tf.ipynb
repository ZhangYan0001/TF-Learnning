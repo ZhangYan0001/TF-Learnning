{
 "cells": [
  {
   "cell_type": "code",
   "execution_count": 33,
   "metadata": {},
   "outputs": [
    {
     "name": "stdout",
     "output_type": "stream",
     "text": [
      "54\n",
      "36\n",
      "8\n",
      "75\n",
      "25\n",
      "92\n",
      "0\n",
      "12\n",
      "48\n",
      "56\n"
     ]
    }
   ],
   "source": [
    "import random\n",
    "\n",
    "\n",
    "for i in range(10):\n",
    "  a = random.randint(0,100)\n",
    "  print(a)"
   ]
  }
 ],
 "metadata": {
  "kernelspec": {
   "display_name": "DL_env",
   "language": "python",
   "name": "python3"
  },
  "language_info": {
   "codemirror_mode": {
    "name": "ipython",
    "version": 3
   },
   "file_extension": ".py",
   "mimetype": "text/x-python",
   "name": "python",
   "nbconvert_exporter": "python",
   "pygments_lexer": "ipython3",
   "version": "3.8.0"
  }
 },
 "nbformat": 4,
 "nbformat_minor": 2
}
