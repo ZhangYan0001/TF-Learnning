{
 "cells": [
  {
   "cell_type": "code",
   "execution_count": 2,
   "metadata": {},
   "outputs": [],
   "source": [
    "# 自定义模型\n",
    "\n",
    "import torch.nn as nn\n",
    "from transformers import XLMRobertaConfig\n",
    "from transformers.modeling_outputs import TokenClassifierOutput\n",
    "from transformers.models.roberta.modeling_roberta import RobertaModel\n",
    "from transformers.models.roberta.modeling_roberta import RobertaPreTrainedModel\n",
    "\n",
    "\n",
    "class XLMRobertaForTokenClassification(RobertaPreTrainedModel):\n",
    "  config_class = XLMRobertaConfig\n",
    "\n",
    "  def __init__(self, config):\n",
    "    super().__init__(config)\n",
    "    self.num_labels = config.num_labels\n",
    "    self.roberta = RobertaModel(config, add_pooling_layer=False)\n",
    "    self.dropout = nn.Dropout(config.hidden_dropout_prob)\n",
    "    self.classifier = nn.Linear(config.hidden_size, config.num_labels)\n",
    "    self.init_weights()\n",
    "\n",
    "  def forward(\n",
    "    self,\n",
    "    input_ids=None,\n",
    "    attention_mask=None,\n",
    "    token_type_ids=None,\n",
    "    labels=None,\n",
    "    **kwargs,\n",
    "  ):\n",
    "    outputs = self.roberta(\n",
    "      input_ids, attention_mask=attention_mask, token_type_ids=token_type_ids, **kwargs\n",
    "    )\n",
    "    sequence_output = self.dropout(outputs[0])\n",
    "    logits = self.classifier(sequence_output)\n",
    "\n",
    "    loss = None\n",
    "    if labels is not None:\n",
    "      loss_fct = nn.CrossEntropyLoss()\n",
    "      loss = loss_fct(logits.view(-1, self.num_labels), labels.view(-1))\n",
    "\n",
    "    return TokenClassifierOutput(\n",
    "      loss=loss,\n",
    "      logits=logits,\n",
    "      hidden_states=outputs.hidden_states,\n",
    "      attentions=outputs.attentions,\n",
    "    )\n"
   ]
  },
  {
   "cell_type": "code",
   "execution_count": null,
   "metadata": {},
   "outputs": [],
   "source": [
    "import torch\n",
    "\n",
    "\n",
    "\n",
    "\n",
    "device = torch.device(\"cuda\" if torch.cuda.is_available() else \"cpu\")\n",
    "xlmr_model_name = \"xlm-roberta-base\"\n",
    "\n",
    "# xlmr_model = XLMRobertaForTokenClassification.from_pretrained(\n",
    "#   xlmr_model_name, config=xlmr_config\n",
    "# ).to(device)\n"
   ]
  }
 ],
 "metadata": {
  "kernelspec": {
   "display_name": "DL_env",
   "language": "python",
   "name": "python3"
  },
  "language_info": {
   "codemirror_mode": {
    "name": "ipython",
    "version": 3
   },
   "file_extension": ".py",
   "mimetype": "text/x-python",
   "name": "python",
   "nbconvert_exporter": "python",
   "pygments_lexer": "ipython3",
   "version": "3.8.0"
  }
 },
 "nbformat": 4,
 "nbformat_minor": 2
}
